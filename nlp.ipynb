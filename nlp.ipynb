{
 "cells": [
  {
   "cell_type": "code",
   "execution_count": 1,
   "id": "c45aac4d",
   "metadata": {},
   "outputs": [],
   "source": [
    "import pandas as pd\n",
    "import json\n",
    "import re\n",
    "import spacy\n",
    "import fitz\n",
    "from tqdm import tqdm\n",
    "from sklearn.feature_extraction.text import TfidfVectorizer\n",
    "from sklearn.metrics.pairwise import cosine_similarity\n",
    "from sentence_transformers import SentenceTransformer\n",
    "from sklearn.cluster import KMeans\n",
    "from sklearn.decomposition import PCA\n",
    "import matplotlib.pyplot as plt\n",
    "import seaborn as sns\n",
    "\n",
    "tqdm.pandas()\n",
    "nlp = spacy.load(\"en_core_web_sm\")\n"
   ]
  },
  {
   "cell_type": "code",
   "execution_count": 2,
   "id": "92da59ab",
   "metadata": {},
   "outputs": [
    {
     "name": "stdout",
     "output_type": "stream",
     "text": [
      "Loaded 33064 job postings.\n"
     ]
    }
   ],
   "source": [
    "with open('data/techmap-jobs_us_2023-05-05.json', 'r') as f:\n",
    "    data = [json.loads(line) for line in f]\n",
    "\n",
    "print(f\"Loaded {len(data)} job postings.\")\n"
   ]
  },
  {
   "cell_type": "code",
   "execution_count": 3,
   "id": "324fa644",
   "metadata": {},
   "outputs": [
    {
     "name": "stdout",
     "output_type": "stream",
     "text": [
      "                                           job_title  \\\n",
      "0                                    Account Manager   \n",
      "1                       Music Teacher, Band Director   \n",
      "2                     Floral Clerk FT Chapel Hill NC   \n",
      "3  Audio and Video Transcription - Flexible Sched...   \n",
      "4                       Sticker Production Assistant   \n",
      "\n",
      "                                            job_text  \n",
      "0  At Legacy Risk, an Alera Group Company, our bu...  \n",
      "1  DescriptionWe are looking for music educators ...  \n",
      "2  To provide excellent guest service by performi...  \n",
      "3  What exactly is a search engine evaluation job...  \n",
      "4  We are a high-quality printing company operati...  \n"
     ]
    }
   ],
   "source": [
    "def parse_job_entry(entry):\n",
    "    try:\n",
    "        job_title = entry.get('name', '')\n",
    "        job_text = entry.get('text', '')\n",
    "        \n",
    "        # fallback if main text is missing\n",
    "        if not job_text and 'json' in entry and 'schemaOrg' in entry['json']:\n",
    "            job_text = entry['json']['schemaOrg'].get('description', '')\n",
    "        \n",
    "        return {\n",
    "            'job_title': job_title.strip(),\n",
    "            'job_text': job_text.strip()\n",
    "        }\n",
    "    except Exception as e:\n",
    "        print(f\"Error parsing entry: {e}\")\n",
    "        return None\n",
    "\n",
    "parsed_jobs = [parse_job_entry(job) for job in data if parse_job_entry(job) is not None]\n",
    "jobs_df = pd.DataFrame(parsed_jobs)\n",
    "\n",
    "print(jobs_df.head())\n"
   ]
  },
  {
   "cell_type": "code",
   "execution_count": 4,
   "id": "98c5f40a",
   "metadata": {},
   "outputs": [
    {
     "name": "stderr",
     "output_type": "stream",
     "text": [
      "100%|██████████| 33064/33064 [36:12<00:00, 15.22it/s]  \n"
     ]
    }
   ],
   "source": [
    "def clean_and_lemmatize(text):\n",
    "    text = re.sub(r'<[^>]+>', ' ', text)\n",
    "    text = re.sub(r'[^a-zA-Z0-9\\s]', ' ', text)\n",
    "    text = re.sub(r'\\s+', ' ', text)\n",
    "    text = text.lower().strip()\n",
    "\n",
    "    # lemmatization\n",
    "    doc = nlp(text)\n",
    "    lemmatized = ' '.join([token.lemma_ for token in doc if not token.is_stop and not token.is_punct])\n",
    "    return lemmatized\n",
    "\n",
    "jobs_df['clean_text'] = jobs_df['job_text'].progress_apply(clean_and_lemmatize)\n"
   ]
  },
  {
   "cell_type": "code",
   "execution_count": 6,
   "id": "5a641add",
   "metadata": {},
   "outputs": [
    {
     "name": "stdout",
     "output_type": "stream",
     "text": [
      "Seniority Class Distribution:\n",
      "seniority\n",
      "unknown      29831\n",
      "senior        1284\n",
      "executive     1143\n",
      "new_grad       606\n",
      "intern         160\n",
      "mid             40\n",
      "Name: count, dtype: int64\n"
     ]
    }
   ],
   "source": [
    "def classify_seniority(title, description):\n",
    "    title = title.lower()\n",
    "\n",
    "    if re.search(r'\\bintern(ship)?\\b', title):\n",
    "        return \"intern\"\n",
    "    if re.search(r'\\b(new grad(uate)?|entry[-\\s]?level|junior|jr\\.)\\b', title):\n",
    "        return \"new_grad\"\n",
    "    if re.search(r'\\bmid[-\\s]?level\\b|\\bintermediate\\b', title):\n",
    "        return \"mid\"\n",
    "    if re.search(r'\\bsenior\\b|\\bsr\\.\\b|\\bprincipal\\b', title):\n",
    "        return \"senior\"\n",
    "    if re.search(r'\\bchief\\b|\\bcxo\\b|\\bexecutive\\b|\\bdirector\\b|\\bvp\\b|\\bvice president\\b', title):\n",
    "        return \"executive\"\n",
    "\n",
    "    return \"unknown\"\n",
    "\n",
    "jobs_df['seniority'] = jobs_df.apply(\n",
    "    lambda row: classify_seniority(row['job_title'], row['job_text']), axis=1\n",
    ")\n",
    "\n",
    "distribution = jobs_df['seniority'].value_counts()\n",
    "print(\"Seniority Class Distribution:\")\n",
    "print(distribution)\n",
    "\n"
   ]
  },
  {
   "cell_type": "code",
   "execution_count": 7,
   "id": "39099984",
   "metadata": {},
   "outputs": [
    {
     "data": {
      "image/png": "[encoded data removed]",
      "text/plain": [
       "<Figure size 1000x600 with 1 Axes>"
      ]
     },
     "metadata": {},
     "output_type": "display_data"
    }
   ],
   "source": [
    "distribution = jobs_df['seniority'].value_counts()\n",
    "\n",
    "distribution = distribution.drop('unknown', errors='ignore')\n",
    "\n",
    "plt.figure(figsize=(10, 6))\n",
    "distribution.plot(kind='bar', color='#FACB65', edgecolor='black')\n",
    "plt.title('Distribution of Job Postings by Job Level')\n",
    "plt.xlabel('Job Level')\n",
    "plt.ylabel('Number of Job Postings')\n",
    "plt.xticks(rotation=45)\n",
    "plt.grid(axis='y', linestyle='--', alpha=0.6)\n",
    "plt.tight_layout()\n",
    "plt.show()\n"
   ]
  },
  {
   "cell_type": "code",
   "execution_count": 8,
   "id": "a87268c8",
   "metadata": {},
   "outputs": [],
   "source": [
    "def extract_text_from_pdf(pdf_path):\n",
    "    text = \"\"\n",
    "    with fitz.open(pdf_path) as doc:\n",
    "        for page in doc:\n",
    "            text += page.get_text()\n",
    "    return text\n",
    "\n",
    "pdf_resume_path = \"resume/Viswa_Nadimpalli_Resume.pdf\"\n",
    "resume_raw = extract_text_from_pdf(pdf_resume_path)\n",
    "resume_clean = clean_and_lemmatize(resume_raw)\n",
    "\n",
    "# print(f\"{resume_raw}\\n\\n\\n\")\n",
    "# print(resume_clean)\n"
   ]
  },
  {
   "cell_type": "code",
   "execution_count": 13,
   "id": "8fff2687",
   "metadata": {},
   "outputs": [],
   "source": [
    "tfidf = TfidfVectorizer(max_features=5000)\n",
    "tfidf_matrix = tfidf.fit_transform(jobs_df['clean_text'])\n",
    "\n",
    "def get_tfidf_recommendations(clean_resume_text, tfidf_model, tfidf_matrix, job_df, top_n=10000):\n",
    "    vec = tfidf_model.transform([clean_resume_text])\n",
    "    similarities = cosine_similarity(vec, tfidf_matrix)[0]\n",
    "    return similarities.argsort()[-top_n:][::-1]\n",
    "\n",
    "tfidf_top = get_tfidf_recommendations(resume_clean, tfidf, tfidf_matrix, jobs_df)\n"
   ]
  },
  {
   "cell_type": "code",
   "execution_count": 14,
   "id": "7a0f9d95",
   "metadata": {},
   "outputs": [
    {
     "data": {
      "application/vnd.jupyter.widget-view+json": {
       "model_id": "c844ce50eb114a7a913e378ead38b583",
       "version_major": 2,
       "version_minor": 0
      },
      "text/plain": [
       "Batches:   0%|          | 0/1034 [00:00<?, ?it/s]"
      ]
     },
     "metadata": {},
     "output_type": "display_data"
    }
   ],
   "source": [
    "embed_model = SentenceTransformer('all-MiniLM-L6-v2')\n",
    "job_embeddings = embed_model.encode(jobs_df['clean_text'].tolist(), show_progress_bar=True)\n",
    "\n",
    "def get_semantic_recommendations(clean_resume_text, embed_model, job_embeddings, job_df, top_n=10000):\n",
    "    resume_embedding = embed_model.encode([clean_resume_text])[0]\n",
    "    similarities = cosine_similarity([resume_embedding], job_embeddings)[0]\n",
    "    return similarities.argsort()[-top_n:][::-1]\n",
    "\n",
    "semantic_top = get_semantic_recommendations(resume_clean, embed_model, job_embeddings, jobs_df)\n"
   ]
  },
  {
   "cell_type": "code",
   "execution_count": 15,
   "id": "affc0d99",
   "metadata": {},
   "outputs": [
    {
     "data": {
      "text/html": [
       "<div>\n",
       "<style scoped>\n",
       "    .dataframe tbody tr th:only-of-type {\n",
       "        vertical-align: middle;\n",
       "    }\n",
       "\n",
       "    .dataframe tbody tr th {\n",
       "        vertical-align: top;\n",
       "    }\n",
       "\n",
       "    .dataframe thead th {\n",
       "        text-align: right;\n",
       "    }\n",
       "</style>\n",
       "<table border=\"1\" class=\"dataframe\">\n",
       "  <thead>\n",
       "    <tr style=\"text-align: right;\">\n",
       "      <th></th>\n",
       "      <th>Job Title</th>\n",
       "      <th>TF-IDF Score</th>\n",
       "      <th>MiniLM Score</th>\n",
       "      <th>Job Snippet</th>\n",
       "    </tr>\n",
       "  </thead>\n",
       "  <tbody>\n",
       "    <tr>\n",
       "      <th>0</th>\n",
       "      <td>Dance Instructor Litehouse/Sandpoint</td>\n",
       "      <td>0.022670</td>\n",
       "      <td>0.341007</td>\n",
       "      <td>culture y channel passion lifelong career help...</td>\n",
       "    </tr>\n",
       "    <tr>\n",
       "      <th>1</th>\n",
       "      <td>Night Auditor - Las Posada De Santa Fe Resort</td>\n",
       "      <td>0.021420</td>\n",
       "      <td>0.428302</td>\n",
       "      <td>job description perform daily audit function o...</td>\n",
       "    </tr>\n",
       "    <tr>\n",
       "      <th>2</th>\n",
       "      <td>Research Assistant-Clinical</td>\n",
       "      <td>0.039229</td>\n",
       "      <td>0.374448</td>\n",
       "      <td>arkansas child s tobacco free workplace covid ...</td>\n",
       "    </tr>\n",
       "  </tbody>\n",
       "</table>\n",
       "</div>"
      ],
      "text/plain": [
       "                                       Job Title  TF-IDF Score  MiniLM Score  \\\n",
       "0           Dance Instructor Litehouse/Sandpoint      0.022670      0.341007   \n",
       "1  Night Auditor - Las Posada De Santa Fe Resort      0.021420      0.428302   \n",
       "2                    Research Assistant-Clinical      0.039229      0.374448   \n",
       "\n",
       "                                         Job Snippet  \n",
       "0  culture y channel passion lifelong career help...  \n",
       "1  job description perform daily audit function o...  \n",
       "2  arkansas child s tobacco free workplace covid ...  "
      ]
     },
     "metadata": {},
     "output_type": "display_data"
    }
   ],
   "source": [
    "\n",
    "sample_indices = [10, 150, 500]  # Change as needed\n",
    "sample_jobs = jobs_df.iloc[sample_indices]\n",
    "\n",
    "from sklearn.metrics.pairwise import cosine_similarity\n",
    "import pandas as pd\n",
    "\n",
    "# TF-IDF similarity\n",
    "tfidf_vec = tfidf.transform([resume_clean])\n",
    "tfidf_scores = cosine_similarity(tfidf_vec, tfidf_matrix[sample_indices])[0]\n",
    "\n",
    "# MiniLM similarity\n",
    "resume_embedding = embed_model.encode([resume_clean])[0]\n",
    "minilm_scores = cosine_similarity([resume_embedding], [job_embeddings[i] for i in sample_indices])[0]\n",
    "\n",
    "comparison_df = pd.DataFrame({\n",
    "    'Job Title': sample_jobs['job_title'].values,\n",
    "    'TF-IDF Score': tfidf_scores,\n",
    "    'MiniLM Score': minilm_scores,\n",
    "    'Job Snippet': sample_jobs['clean_text'].str[:100].values  # Shortened for display\n",
    "})\n",
    "\n",
    "display(comparison_df)\n"
   ]
  },
  {
   "cell_type": "code",
   "execution_count": 16,
   "id": "24737aa3",
   "metadata": {},
   "outputs": [
    {
     "name": "stdout",
     "output_type": "stream",
     "text": [
      "\n",
      "🎯 Top TF-IDF Matches (Filtered for: new_grad):\n",
      "\n",
      "Rank 1:\n",
      "Job Title: Junior Level Software Developer\n",
      "Seniority: new_grad\n",
      "Description:\n",
      "Entry-level Software Developer BeaconFire Corporation based in Central NJ, specializing in Software Development, Web Development, and Business Intelligence is looking for candidates with a strong background in Software Engineering, Computer Science, for Java / Software Developer position. Job Responsibilities: · Develop applications using Java 8/JEE (and higher), AngularJS, React.js, SQL, Spring, and HTML5, among other tools. · Write scalable, secure, maintainable code that powers our clients’ platforms. · Create, deploy and maintain automated system tests. · Works with Testers to understand defects opened and resolves them in a timely manner · Support continuous improvement by investigating alternatives and technologies and presenting these for architectural review · Collaborates effectively with other team members to accomplish shared user story and sprint goals Requirement: · Experience using Spring, Maven, and Angular frameworks, HTML, CSS · Experience in a programming language Java or similar (e.g. Python, C, C++, C#, etc.) and understanding of the software development life cycle · Basic programming skills using object-oriented programming (OOP) languages with in-depth knowledge of common APIs and data structures like Collections, Maps, lists, Sets, etc. · Knowledge of other contemporary Java technologies (e.g. Weblogic, RabbitMQ, Tomcat, etc.) · Knowledge of JSP, J2EE, and JDBC · Knowledge of relational databases (e.g. SQL Server, Oracle) basic SQL query language skills Preferred Qualifications: · Master’s Degree in Computer Science (CS) · 0-1 year of practical experience in Java coding BeaconFire C or poration is an e-verified company, and we provide sponsorship (H1B Visa/Green card) to all qualified candidates. Job Type: Full-time Pay: $60,000.00 - $80,000.00 per year Benefits: 401(k) Dental insurance Employee discount Health insurance Health savings account Life insurance Paid time off Professional development assistance Referral program Relocation assistance Retirement plan Vision insurance Schedule: Monday to Friday Supplemental pay types: Bonus pay Education: Bachelor's (Preferred) Experience: Java: 1 year (Preferred) Work Location: In person\n",
      "--------------------------------------------------------------------------------\n",
      "\n",
      "Rank 2:\n",
      "Job Title: Junior Software Developer\n",
      "Seniority: new_grad\n",
      "Description:\n",
      "Come join a creative and curious team dedicated to improving the lives of folks impacted by mental illness. You will help shape our national software which is used by our Alliance, 600 affiliate non-profits doing on-the-ground work at the State and Local level. You'll be joining the team that designs, develops, and deploys systems that make this key work more successful, primarily with our nationally-recognized NAMI HelpLine call center. And you'll be responsible for writing code that connects systems together, provide reporting tools, and developing new features. You'll work along-side a seven person empathetic and engaged Information System team. What you'll bring: You need demonstrated professional experience with web or software development with something like Laravel, WordPress, or Node.js. There's no specific educational background required. You want to build and maintain solid software. Understand how our software works, how we see it working well (or not!). And you want to partner with users to take individual asks and turn them into long-term iterative improvements. Just as important as the technical skills, we're looking for someone who is optimistic, focused on getting the details right, building for accessibility, excited to learn new skills and new technologies, and enjoys working with other people on a cross-functional team. In the first year you'll work on projects like: Rebuilding an existing resource directory hosted in WordPress as a single site, to a WordPress multisite installation that allows rebranding for different audiences while maintaining a single administration point. Making adjustments to improve the user experience of our HelpLine Laravel application that our awesome HelpLine volunteers use to find resources to share with folks seeking help. Using Twilio's tools to streamline the workflows that connect our HelpLine volunteers to help seekers to improve the speed of service from the HelpLine. What's our Tech Stack: Laravel + WordPress for web infrastructure. We use WordPress for most of our websites (and our learning management system), and we use Laravel for our core line-of-business applications. Twilio + Flex runs our nationally-recognized NAMI HelpLine call center. Salesforce is our core CRM, and also supports our entire non-profit Alliance network in tracking their membership. Slack and Asana for collaboration and project management. Key Responsibilities: Write clean, maintainable, and efficient code to improve Laravel and WordPress web applications Build or improve reporting from our web applications ensuring the data consistency Maintain the Twilio installation to ensure it is performant, and runs smoothly to support our HelpLine Stay up-to-date on the features available from Twilio, and make recommendations on when enhancements should be adopted Develop and maintain documentation for technical audiences and non-technical user support Work with tooling for observability, uptime, and performance monitoring Be a collaborative colleague who learns from and educates their team Proactively communicates, maintains expectations, and keeps work records up-to-date in project management systems and team communication channels Requirements: 2+ years of experience in web application development Strong proficiency in PHP, WordPress, and Laravel Experience with front-end technologies such as HTML, CSS, and JavaScript Understanding of RESTful APIs Excellent debugging skills Familiarity with Git or other version control systems Ability to work independently and as part of a team Attention to detail and a commitment to delivering high-quality work Excellent communication and collaboration skills Comfort in a remote-first workplace We're also be interested if you have experience with: Javascript frameworks such as React or Node Salesforce SDK or other REST APIs Accessibility Using data visualization libraries, programmatic diagramming, or building dashboards Server-side technologies such as Nginx or Apache Non-Profit work This is a full-time position with competitive salary and benefits. If you meet the requirements and are excited about this opportunity, please apply with your resume and a cover letter. We welcome candidates of diverse backgrounds and experience to apply, including people of color, women, LGBTQI, differently abled, and those with a non-traditional education. Compensation: This full-time position can be either remote or based in our Arlington, VA offices on a hybrid basis. Salary Range: $70,000 - $75,000 Your salary is only one component of the total compensation package. NAMI offers a range of standard and unique benefits that are reviewed annually: Generous and comprehensive Health, Dental, and Vision Plans Paid Time Off: Vacation, Personal, and Sick Leave Paid Parental Leave 403(b) retirement plan Flexible Spending Accounts for health care, dependent care and commuter expenses Life Insurance and Disability coverage paid by NAMI Flexible Work and Telework programs Professional Development Reimbursement program A variety of wellness offerings to support team members Employee Referral Program The Employee Assistance Program (EAP) which provides support for personal and family problems common in contemporary life NAMI is proud to be an equal opportunity employer and is committed to creating a diverse and inclusive workforce. NAMI prohibits discrimination and harassment against any employee or applicant for employment because of race, color, religion, sex, national origin, marital status, age, disability, veteran status, sexual orientation, gender identity or expression, pregnancy, childbirth or related medical conditions, genetic information or any other legally protected group status. We also provide reasonable accommodation for candidates with disability.\n",
      "--------------------------------------------------------------------------------\n",
      "\n",
      "Rank 3:\n",
      "Job Title: Junior Software Development Engineer\n",
      "Seniority: new_grad\n",
      "Description:\n",
      "REMOTE (US/Canada Residing people only, with work permit) Patterned Learning – Junior Software Development Engineer , FULL-TIME, Salary $100K - $130K a year. About us: The Future of AI is Patterned, a stealth-mode technology startup. Top investors include Sequoia and Anderson Horowitz, founders from Google, DeepMind, and NASA and we’re hiring for almost everything! Qualifications About the job requirements: Experience designing and consuming RESTful APIs Strong proficiency in JavaScript, including DOM manipulation and the JavaScript object model ( 2 Years Experience ) 2 Years experience with Node.js Relevant working experience using popular SPA frameworks and document-model databases Excellent written and verbal communication skills A desire to never stop learning, a deep passion for technology, and a collaborative mindset to work with others to ensure end-to-end design and delivery Openness to collaboration through formal and informal code and PR review processes Special Benefits You Will Love Flexible vacation, paid holidays, and paid sick days 401(k) with up to 2% employer match (no match) Health, vision, and dental insurance. Schedule: 8 hour shift, Monday to Friday , Time: Flexible, Job Type: Full-time\n",
      "--------------------------------------------------------------------------------\n",
      "\n",
      "Rank 4:\n",
      "Job Title: Entry Level Software Developer\n",
      "Seniority: new_grad\n",
      "Description:\n",
      "Simetra Systems, Inc. is an IT-consulting firm located in El Segundo, CA. We specialize in scalable data solutions for small to medium-sized companies. Our clients are in a variety of industries including Financial Services, Entertainment, Health Care, Legal, Real Estate and Non-Profit. Nature of Position: As a Entry Level Software Developer you will join a Simetra Systems, Inc. team with over 30 years of experience in custom database development and business process optimization. Your work will support clients through the design and development of software applications primarily written in ASP.NET, .Net Core, Visual Basic, C#, PHP, Microsoft Access and Microsoft SQL Server. These applications will translate the business requirements of our clients into practical design, and assist the client in the collection, analysis and application of data. You will develop both the front-end user interface and the back-end database structure and have the opportunity to develop new projects as well as support legacy applications. This is a direct hire not a contract position. Educational and Experience Requirements: Bachelor's Degree with emphasis in Management Information Systems. Courses in Data Structures and Database Design. Must have basic expertise in developing applications using Microsoft SQL Server, stored procedures, ASP.NET, VB.Net, C#, PHP, Visual Studio, and MS Access VBA. Working knowledge of applications for an internet/intranet environment. Additional Experience a Plus: HTML and Javascript knowledge. Experience working well independently as part of a team. Good communication skills, highly motivated and tenacious. Team player/solution-oriented and Strong organizational skills End-user approach to software development Able to interface effectively with clients, management, and company associates.\n",
      "--------------------------------------------------------------------------------\n",
      "\n",
      "Rank 5:\n",
      "Job Title: Entry Level Business Analyst/Jr Data Analyst\n",
      "Seniority: new_grad\n",
      "Description:\n",
      "Job description Our clients are looking for Jr Level Business and Data Analysts on contract for Multiple locations. Jr Business Analyst: Analyzing structure of a business to determine how it operates and determine its objectives. Facilitate, elicit and document business requirements for business process, reports, and business tasks needed for enhancements to existing systems as well as new ones that maybe initiated by business customers Designing solutions to any problems identified during research phase. Work closely with product and development teams to create and execute user stories. Using modeling, testing and data models to improve the flow of information through an organization to enhance project success. Promote best practices by data analyzing and reporting. Jr Data Analyst: Responsible for the design, development and administration of transactional and analytical data constructs/structures. Includes expertise in data quality, data organization, metadata, and data profiling. Demonstrated ability to move data between production systems and across multiple platforms Has knowledge of advance Excel, SQL or Python Creating and distributing both routine and complex ad-hoc reports. Work with management to prioritize business and information needs Qualifications: Bachelors Preferred 0-1 years of professional working experience as a Business or Data Analyst Knowledge of Advanced Excel, SQL, Python or Tableau AWS (Plus) Willing to relocate Tresume is an Equal Opportunity Employer M/F/V/D.\" Tresume is proud to state that we are enrolled with the USCIS for the E-Verification Program . Job Types: Full-time, Contract Pay: $28.00 - $35.00 per hour Benefits: Health insurance Schedule: 8 hour shift Monday to Friday Ability to commute/relocate: Raleigh, NC: Reliably commute or planning to relocate before starting work (Required) Education: Associate (Preferred) Experience: SQL: 1 year (Preferred) Work Location: In person\n",
      "--------------------------------------------------------------------------------\n",
      "\n",
      "🎯 Top Semantic Matches (Filtered for: new_grad):\n",
      "\n",
      "Rank 1:\n",
      "Job Title: Junior Level Software Developer\n",
      "Seniority: new_grad\n",
      "Description:\n",
      "Entry-level Software Developer BeaconFire Corporation based in Central NJ, specializing in Software Development, Web Development, and Business Intelligence is looking for candidates with a strong background in Software Engineering, Computer Science, for Java / Software Developer position. Job Responsibilities: · Develop applications using Java 8/JEE (and higher), AngularJS, React.js, SQL, Spring, and HTML5, among other tools. · Write scalable, secure, maintainable code that powers our clients’ platforms. · Create, deploy and maintain automated system tests. · Works with Testers to understand defects opened and resolves them in a timely manner · Support continuous improvement by investigating alternatives and technologies and presenting these for architectural review · Collaborates effectively with other team members to accomplish shared user story and sprint goals Requirement: · Experience using Spring, Maven, and Angular frameworks, HTML, CSS · Experience in a programming language Java or similar (e.g. Python, C, C++, C#, etc.) and understanding of the software development life cycle · Basic programming skills using object-oriented programming (OOP) languages with in-depth knowledge of common APIs and data structures like Collections, Maps, lists, Sets, etc. · Knowledge of other contemporary Java technologies (e.g. Weblogic, RabbitMQ, Tomcat, etc.) · Knowledge of JSP, J2EE, and JDBC · Knowledge of relational databases (e.g. SQL Server, Oracle) basic SQL query language skills Preferred Qualifications: · Master’s Degree in Computer Science (CS) · 0-1 year of practical experience in Java coding BeaconFire C or poration is an e-verified company, and we provide sponsorship (H1B Visa/Green card) to all qualified candidates. Job Type: Full-time Pay: $60,000.00 - $80,000.00 per year Benefits: 401(k) Dental insurance Employee discount Health insurance Health savings account Life insurance Paid time off Professional development assistance Referral program Relocation assistance Retirement plan Vision insurance Schedule: Monday to Friday Supplemental pay types: Bonus pay Education: Bachelor's (Preferred) Experience: Java: 1 year (Preferred) Work Location: In person\n",
      "--------------------------------------------------------------------------------\n",
      "\n",
      "Rank 2:\n",
      "Job Title: Junior Cloud Engineer\n",
      "Seniority: new_grad\n",
      "Description:\n",
      "Interapt is seeking a Junior Cloud Engineer to join our Information Technology and Services team. In this role, you will be responsible for supporting the implementation and maintenance of cloud-based systems aimed at transforming our clients' businesses. This is a remote entry level role and we are looking for someone who is excited for the evolution of this team and overall role! The successful candidate will work closely with other members of the team to optimize cloud infrastructure and services, while also ensuring the highest level of service availability, security, and performance. At Interapt, we are committed to investing in people and communities, and we are looking for a candidate who shares that commitment. Responsibilities Research and support the implementation, and maintenance of cloud-based systems. Monitor and optimize cloud infrastructure and services to ensure the highest level of service availability, security, and performance. Collaborate with other members of the team to troubleshoot issues and develop solutions. Participate in the development and implementation of IT security policies and procedures. Stay up-to-date with the latest cloud computing technologies and industry trends. Assist in the development and execution of disaster recovery plans. Contribute to the development and documentation of technical procedures and configurations. Requirements Bachelor's degree in Information Technology, Computer Science, or a related field. Desire and aptitude to work with cloud platforms such as AWS, Azure, or Google Cloud Platform. Understanding of cloud computing technologies, including virtualization, storage systems, and networking ideal Familiarity with containerization technologies such as Docker and Kubernetes preferred Ability to work independently and as part of a team. Strong problem-solving and analytical skills. Excellent communication and interpersonal skills. Benefits Health Care Plan (Medical, Dental & Vision) Retirement Plan (401k, IRA) Life Insurance (Basic, Voluntary & AD&D) Paid Time Off (Vacation, Sick & Public Holidays) Family Leave (Maternity, Paternity) Short Term & Long Term Disability Training & Development Work From Home Wellness Resources\n",
      "--------------------------------------------------------------------------------\n",
      "\n",
      "Rank 3:\n",
      "Job Title: Junior Cloud Engineer\n",
      "Seniority: new_grad\n",
      "Description:\n",
      "Interapt is seeking a Junior Cloud Engineer to join our Information Technology and Services team. In this role, you will be responsible for supporting the implementation and maintenance of cloud-based systems aimed at transforming our clients' businesses. This is a remote entry level role and we are looking for someone who is excited for the evolution of this team and overall role! The successful candidate will work closely with other members of the team to optimize cloud infrastructure and services, while also ensuring the highest level of service availability, security, and performance. At Interapt, we are committed to investing in people and communities, and we are looking for a candidate who shares that commitment. Responsibilities Research and support the implementation, and maintenance of cloud-based systems. Monitor and optimize cloud infrastructure and services to ensure the highest level of service availability, security, and performance. Collaborate with other members of the team to troubleshoot issues and develop solutions. Participate in the development and implementation of IT security policies and procedures. Stay up-to-date with the latest cloud computing technologies and industry trends. Assist in the development and execution of disaster recovery plans. Contribute to the development and documentation of technical procedures and configurations. Requirements Bachelor's degree in Information Technology, Computer Science, or a related field. Desire and aptitude to work with cloud platforms such as AWS, Azure, or Google Cloud Platform. Understanding of cloud computing technologies, including virtualization, storage systems, and networking ideal Familiarity with containerization technologies such as Docker and Kubernetes preferred Ability to work independently and as part of a team. Strong problem-solving and analytical skills. Excellent communication and interpersonal skills. Benefits Health Care Plan (Medical, Dental & Vision) Retirement Plan (401k, IRA) Life Insurance (Basic, Voluntary & AD&D) Paid Time Off (Vacation, Sick & Public Holidays) Family Leave (Maternity, Paternity) Short Term & Long Term Disability Training & Development Work From Home Wellness Resources\n",
      "--------------------------------------------------------------------------------\n",
      "\n",
      "Rank 4:\n",
      "Job Title: Intermediate Systems Administrator / Junior IT Professional\n",
      "Seniority: new_grad\n",
      "Description:\n",
      "Remote Options are possible. Want to work supporting researchers performing cutting edge research? Would you like to help make accurate, important scientific data, broadly available to citizen scientists, students, researchers, industry, and policy makers? If you are looking for impactful work where your skills help make a difference in the larger scheme of things, then read on! Your Impact: The EPA has contracted with Jacobs to provide technical support to their Scientific Computing and Data Curation Division (SCDCD) under their R&D Office. This Junior Systems Admin supports systems infrastructure for the SCDCD and their Center for Computational Toxicology and Exposure (CCTE). You’ll be supporting data-intensive systems and development processes housing a growing list of features and upgrades, constant data growth. By providing for the maintenance, growth and availability of these systems, large volumes of important scientific data produced by researchers working in the SCDCD are made broadly available. This position will work closely with a team of personnel from EPA, Jacobs, and other teammates integrated into a smoothly functional team. You will work closely with this team to meet the needs of the end user communities of EPA, other researchers, the science community at large, as well as the development teams working to produce the CCTE’s data-intensive applications. Working under the Jacobs Task Order Manager’s direction, and following all Jacobs and applicable EPA established policies and procedures, duties will include: Provide Systems Administrator support to systems hosting complex operational databases, software configuration control, and system interfaces for computer systems. May also provide support to broader EPA IT projects that affect SCDCD or CCTE. Systems Monitoring: CPU, disk, throughput, and memory usage Conducting server builds. Installing operating system software, optimizing, fine tuning, and monitoring Security and operational patches and upgrades, both routine and responsive Analyzing, troubleshooting, and resolving outage and performance issues relating to system hardware, and software Performing system backups and recovery End user support tickets as required. Maintains file servers, documents, analyzes, and troubleshoots systems anomalies to ensure optimum equipment performance Provide basic support and execution of requests for user account creation, management, and maintenance Participate in incident response and post-incident reviews Participate in all manner of Jacobs and Federal audits Complete specific Jacobs and Federal training courses as directed by Jacobs management Key technologies in use include Keep Alive, Apache, Visual Studio, Pentaho, Docker. Databases are MySQL, Postgres, and MongoDB Minimum education and experience requirements for this position are absolute requirements. The successful candidate must possess the following minimum requirements. A Bachelor’s degree in Information Systems, Computer Science, Computer Information Systems, Software engineering, or closely related field of study and a minimum of 3 (three) years of progressive experience. Progressive relevant training and/or certification may be substituted for a portion of the education requirement. Demonstrated 3 years working in a team environment Excellent communication and interpersonal skills are required. This position will interact successfully with IT technical personnel of all disciplines, and non-IT personnel both internal and external to Jacobs Experience with: Configuration, maintenance of virtual and physical servers on Linux and Windows, Shell scripting, preferably BASH Configuration Management Databases, and tools, i.e.: Puppet, Ansible, Chef. Installation maintenance and troubleshooting of server-level software such as webservices, firewalls, remote access, and account management Familiarity with Atlassian tools, Jira, Git, and Bitbucket Familiarity with Docker tools and Cloud Infrastructure. Familiarity with International Uniform Chemical Information Database server (IUCLID) is a plus. ESSENTIAL FUNCTIONS Description of Work Environment Inside office setting, with remote options Minimal travel for remote options, none expected for local onsite Equipment and Machines Involved in Work Tasks Office equipment: PC/Laptop workstations Criticality of Attendance Monday – Friday, some overtime is possible, 1st Shift with some flex options Attendance and punctuality are critical Other Essential Functions This person represents Jacobs and Jacobs’ values to the broader team and to the EPA as our client. Manages time to allow availability for organizational meetings, training, and any other required activities while maintaining service levels to the client. : United States-North Carolina-Research Triangle Park-20353-RLS : May 5, 2023, 6:04:22 PM : Software : CMS : Experienced Job Classification: Fulltime-Regular : 20353-RLS 109 T.W. Alexander Drive Research Triangle Park 27709 Capabilities: Environmental Planning\n",
      "--------------------------------------------------------------------------------\n",
      "\n",
      "Rank 5:\n",
      "Job Title: Junior Network Engineer\n",
      "Seniority: new_grad\n",
      "Description:\n",
      "RESPONSIBILITIES: Kforce has a client in Quanitco, VA that is seeking a Junior Network Engineer. Summary: With advanced knowledge and appreciable latitude in decision-making, the Junior Network Engineer provides network solution engineering efforts to plan, design, configure, troubleshoot, implement, enhance, optimize and secure DCSA's infrastructure of non-virtual and virtual systems in enclaves and data centers, regional field offices, field offices, and the Amazon Web Service (AWS) Govcloud environments, as part of the overall strategic objective of the DCSA IT modernization and One IT initiatives to provide a flexible enterprise IT environment to support the DCSA mission IAW with DCSA and DoD policies and procedures and commonly utilized industry best practices. Responsibilities: * Supports translation of strategic goals, commitments, requirements, risks, and objectives into plans, tasks, and activities for solutions and alternatives, from a network perspective * Researches, maintains, and applies expertise in emerging technologies, and industry developments, trends, best practices, and principles of network engineering * Develops and designs load balancing and engineering capability assessments * Provides and implements capacity-planning solutions * Directs or performs integration and testing of all items to ensure security and operability before deployment * Implements operational design standards and establishes appropriate interfaces that best fulfill interoperability and mission requirements, designing, recommending, and engineering configuration of all network and communication equipment, facilities, and services, specifically including router/switch configurations, Internet Protocol (IP) addresses, Regional Internet Access Points (RIAPs), Virtual Private Networks, gateway servers, and related services, in a manner to ensure most efficient flow of data and highest security, coordinating all solutions with Cyber Security Defense Operations REQUIREMENTS: * BA/BS degree * Must meet Information Assurance requirements in accordance with DoDD 8140 (CISSP and/or Security+) * 0 to 1 years of experience * Applicants selected will be subject to a government security investigation and must meet eligibility requirements for access to classified information The pay range is the lowest to highest compensation we reasonably in good faith believe we would pay at posting for this role. We may ultimately pay more or less than this range. Employee pay is based on factors like relevant education, qualifications, certifications, experience, skills, seniority, location, performance, union contract and business needs. This range may be modified in the future. We offer comprehensive benefits including medical/dental/vision insurance, HSA, FSA, 401(k), and life, disability & ADD insurance to eligible employees. Salaried personnel receive paid time off. Hourly employees are not eligible for paid time off unless required by law. Hourly employees on a Service Contract Act project are eligible for paid sick leave. Note: Pay is not considered compensation until it is earned, vested and determinable. The amount and availability of any compensation remains in Kforce's sole discretion unless and until paid and may be modified in its discretion consistent with the law. This job is not eligible for bonuses, incentives or commissions. Kforce is an Equal Opportunity/Affirmative Action Employer. All qualified applicants will receive consideration for employment without regard to race, color, religion, sex, pregnancy, sexual orientation, gender identity, national origin, age, protected veteran status, or disability status. Report this job Dice Id: kforcecx Position Id: ITAQG2074886\n",
      "--------------------------------------------------------------------------------\n"
     ]
    }
   ],
   "source": [
    "desired_level = \"new_grad\"  # \"intern\", \"new_grad\", \"mid\", \"senior\", \"executive\"\n",
    "\n",
    "filtered_tfidf_indices = [\n",
    "    idx for idx in tfidf_top\n",
    "    if classify_seniority(jobs_df.iloc[idx]['job_title'], jobs_df.iloc[idx]['job_text']) == desired_level\n",
    "][:5]\n",
    "\n",
    "print(f\"\\n🎯 Top TF-IDF Matches (Filtered for: {desired_level}):\")\n",
    "for rank, idx in enumerate(filtered_tfidf_indices, 1):\n",
    "    print(f\"\\nRank {rank}:\")\n",
    "    print(f\"Job Title: {jobs_df.iloc[idx]['job_title']}\")\n",
    "    print(f\"Seniority: {classify_seniority(jobs_df.iloc[idx]['job_title'], jobs_df.iloc[idx]['job_text'])}\")\n",
    "    print(f\"Description:\\n{jobs_df.iloc[idx]['job_text']}\")\n",
    "    print(\"-\" * 80)\n",
    "\n",
    "# Filter Semantic recommendations by seniority\n",
    "filtered_semantic_indices = [\n",
    "    idx for idx in semantic_top\n",
    "    if classify_seniority(jobs_df.iloc[idx]['job_title'], jobs_df.iloc[idx]['job_text']) == desired_level\n",
    "][:5]\n",
    "\n",
    "print(f\"\\n🎯 Top Semantic Matches (Filtered for: {desired_level}):\")\n",
    "for rank, idx in enumerate(filtered_semantic_indices, 1):\n",
    "    print(f\"\\nRank {rank}:\")\n",
    "    print(f\"Job Title: {jobs_df.iloc[idx]['job_title']}\")\n",
    "    print(f\"Seniority: {classify_seniority(jobs_df.iloc[idx]['job_title'], jobs_df.iloc[idx]['job_text'])}\")\n",
    "    print(f\"Description:\\n{jobs_df.iloc[idx]['job_text']}\")\n",
    "    print(\"-\" * 80)\n"
   ]
  }
 ],
 "metadata": {
  "kernelspec": {
   "display_name": "venv",
   "language": "python",
   "name": "python3"
  },
  "language_info": {
   "codemirror_mode": {
    "name": "ipython",
    "version": 3
   },
   "file_extension": ".py",
   "mimetype": "text/x-python",
   "name": "python",
   "nbconvert_exporter": "python",
   "pygments_lexer": "ipython3",
   "version": "3.11.12"
  }
 },
 "nbformat": 4,
 "nbformat_minor": 5
}
